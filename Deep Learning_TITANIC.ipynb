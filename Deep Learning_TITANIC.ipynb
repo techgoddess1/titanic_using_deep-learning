{
 "cells": [
  {
   "cell_type": "code",
   "execution_count": 1,
   "id": "64518b8c",
   "metadata": {},
   "outputs": [],
   "source": [
    "# Importing the needed libraries\n",
    "\n",
    "# Libraries for deep learning\n",
    "import tensorflow as tf\n",
    "import tensorflow.keras as keras\n",
    "from keras.models import Sequential\n",
    "from keras.layers import Dense\n",
    "\n",
    "# Libraries for preprocessing\n",
    "from sklearn.preprocessing import StandardScaler\n",
    "\n",
    "#Libraries for data analysis\n",
    "import pandas as pd\n",
    "import seaborn as sns\n",
    "import numpy as np\n"
   ]
  },
  {
   "cell_type": "code",
   "execution_count": 2,
   "id": "2b12a9e9",
   "metadata": {},
   "outputs": [],
   "source": [
    "# Reading in the dataset\n",
    "titanic=sns.load_dataset('titanic')"
   ]
  },
  {
   "cell_type": "code",
   "execution_count": 3,
   "id": "51463875",
   "metadata": {},
   "outputs": [
    {
     "data": {
      "text/html": [
       "<div>\n",
       "<style scoped>\n",
       "    .dataframe tbody tr th:only-of-type {\n",
       "        vertical-align: middle;\n",
       "    }\n",
       "\n",
       "    .dataframe tbody tr th {\n",
       "        vertical-align: top;\n",
       "    }\n",
       "\n",
       "    .dataframe thead th {\n",
       "        text-align: right;\n",
       "    }\n",
       "</style>\n",
       "<table border=\"1\" class=\"dataframe\">\n",
       "  <thead>\n",
       "    <tr style=\"text-align: right;\">\n",
       "      <th></th>\n",
       "      <th>survived</th>\n",
       "      <th>pclass</th>\n",
       "      <th>sex</th>\n",
       "      <th>age</th>\n",
       "      <th>sibsp</th>\n",
       "      <th>parch</th>\n",
       "      <th>fare</th>\n",
       "      <th>embarked</th>\n",
       "      <th>class</th>\n",
       "      <th>who</th>\n",
       "      <th>adult_male</th>\n",
       "      <th>deck</th>\n",
       "      <th>embark_town</th>\n",
       "      <th>alive</th>\n",
       "      <th>alone</th>\n",
       "    </tr>\n",
       "  </thead>\n",
       "  <tbody>\n",
       "    <tr>\n",
       "      <th>0</th>\n",
       "      <td>0</td>\n",
       "      <td>3</td>\n",
       "      <td>male</td>\n",
       "      <td>22.0</td>\n",
       "      <td>1</td>\n",
       "      <td>0</td>\n",
       "      <td>7.2500</td>\n",
       "      <td>S</td>\n",
       "      <td>Third</td>\n",
       "      <td>man</td>\n",
       "      <td>True</td>\n",
       "      <td>NaN</td>\n",
       "      <td>Southampton</td>\n",
       "      <td>no</td>\n",
       "      <td>False</td>\n",
       "    </tr>\n",
       "    <tr>\n",
       "      <th>1</th>\n",
       "      <td>1</td>\n",
       "      <td>1</td>\n",
       "      <td>female</td>\n",
       "      <td>38.0</td>\n",
       "      <td>1</td>\n",
       "      <td>0</td>\n",
       "      <td>71.2833</td>\n",
       "      <td>C</td>\n",
       "      <td>First</td>\n",
       "      <td>woman</td>\n",
       "      <td>False</td>\n",
       "      <td>C</td>\n",
       "      <td>Cherbourg</td>\n",
       "      <td>yes</td>\n",
       "      <td>False</td>\n",
       "    </tr>\n",
       "    <tr>\n",
       "      <th>2</th>\n",
       "      <td>1</td>\n",
       "      <td>3</td>\n",
       "      <td>female</td>\n",
       "      <td>26.0</td>\n",
       "      <td>0</td>\n",
       "      <td>0</td>\n",
       "      <td>7.9250</td>\n",
       "      <td>S</td>\n",
       "      <td>Third</td>\n",
       "      <td>woman</td>\n",
       "      <td>False</td>\n",
       "      <td>NaN</td>\n",
       "      <td>Southampton</td>\n",
       "      <td>yes</td>\n",
       "      <td>True</td>\n",
       "    </tr>\n",
       "    <tr>\n",
       "      <th>3</th>\n",
       "      <td>1</td>\n",
       "      <td>1</td>\n",
       "      <td>female</td>\n",
       "      <td>35.0</td>\n",
       "      <td>1</td>\n",
       "      <td>0</td>\n",
       "      <td>53.1000</td>\n",
       "      <td>S</td>\n",
       "      <td>First</td>\n",
       "      <td>woman</td>\n",
       "      <td>False</td>\n",
       "      <td>C</td>\n",
       "      <td>Southampton</td>\n",
       "      <td>yes</td>\n",
       "      <td>False</td>\n",
       "    </tr>\n",
       "    <tr>\n",
       "      <th>4</th>\n",
       "      <td>0</td>\n",
       "      <td>3</td>\n",
       "      <td>male</td>\n",
       "      <td>35.0</td>\n",
       "      <td>0</td>\n",
       "      <td>0</td>\n",
       "      <td>8.0500</td>\n",
       "      <td>S</td>\n",
       "      <td>Third</td>\n",
       "      <td>man</td>\n",
       "      <td>True</td>\n",
       "      <td>NaN</td>\n",
       "      <td>Southampton</td>\n",
       "      <td>no</td>\n",
       "      <td>True</td>\n",
       "    </tr>\n",
       "  </tbody>\n",
       "</table>\n",
       "</div>"
      ],
      "text/plain": [
       "   survived  pclass     sex   age  sibsp  parch     fare embarked  class  \\\n",
       "0         0       3    male  22.0      1      0   7.2500        S  Third   \n",
       "1         1       1  female  38.0      1      0  71.2833        C  First   \n",
       "2         1       3  female  26.0      0      0   7.9250        S  Third   \n",
       "3         1       1  female  35.0      1      0  53.1000        S  First   \n",
       "4         0       3    male  35.0      0      0   8.0500        S  Third   \n",
       "\n",
       "     who  adult_male deck  embark_town alive  alone  \n",
       "0    man        True  NaN  Southampton    no  False  \n",
       "1  woman       False    C    Cherbourg   yes  False  \n",
       "2  woman       False  NaN  Southampton   yes   True  \n",
       "3  woman       False    C  Southampton   yes  False  \n",
       "4    man        True  NaN  Southampton    no   True  "
      ]
     },
     "execution_count": 3,
     "metadata": {},
     "output_type": "execute_result"
    }
   ],
   "source": [
    "# viewing the first 5 rows of the dataset\n",
    "titanic.head()"
   ]
  },
  {
   "cell_type": "code",
   "execution_count": 4,
   "id": "70b5e0d9",
   "metadata": {},
   "outputs": [],
   "source": [
    "# dropping some columns not needed for the analysis\n",
    "titanic= titanic.drop(['embark_town','deck','who','adult_male','alive','alone'], axis=1)"
   ]
  },
  {
   "cell_type": "code",
   "execution_count": 5,
   "id": "115a240b",
   "metadata": {},
   "outputs": [],
   "source": [
    "# Replacing some catego\n",
    "titanic.replace({'male':0, 'female':1,'no':0,'yes':1,False:0,True:1},inplace= True)\n"
   ]
  },
  {
   "cell_type": "code",
   "execution_count": 6,
   "id": "9e013696",
   "metadata": {},
   "outputs": [
    {
     "data": {
      "text/plain": [
       "survived      0\n",
       "pclass        0\n",
       "sex           0\n",
       "age         177\n",
       "sibsp         0\n",
       "parch         0\n",
       "fare          0\n",
       "embarked      2\n",
       "class         0\n",
       "dtype: int64"
      ]
     },
     "execution_count": 6,
     "metadata": {},
     "output_type": "execute_result"
    }
   ],
   "source": [
    "titanic.isna().sum()"
   ]
  },
  {
   "cell_type": "code",
   "execution_count": 7,
   "id": "bc2dc5db",
   "metadata": {},
   "outputs": [
    {
     "data": {
      "text/html": [
       "<div>\n",
       "<style scoped>\n",
       "    .dataframe tbody tr th:only-of-type {\n",
       "        vertical-align: middle;\n",
       "    }\n",
       "\n",
       "    .dataframe tbody tr th {\n",
       "        vertical-align: top;\n",
       "    }\n",
       "\n",
       "    .dataframe thead th {\n",
       "        text-align: right;\n",
       "    }\n",
       "</style>\n",
       "<table border=\"1\" class=\"dataframe\">\n",
       "  <thead>\n",
       "    <tr style=\"text-align: right;\">\n",
       "      <th></th>\n",
       "      <th>survived</th>\n",
       "      <th>pclass</th>\n",
       "      <th>sex</th>\n",
       "      <th>age</th>\n",
       "      <th>sibsp</th>\n",
       "      <th>parch</th>\n",
       "      <th>fare</th>\n",
       "      <th>embarked</th>\n",
       "      <th>class</th>\n",
       "    </tr>\n",
       "  </thead>\n",
       "  <tbody>\n",
       "    <tr>\n",
       "      <th>19</th>\n",
       "      <td>1</td>\n",
       "      <td>3</td>\n",
       "      <td>1</td>\n",
       "      <td>NaN</td>\n",
       "      <td>0</td>\n",
       "      <td>0</td>\n",
       "      <td>7.2250</td>\n",
       "      <td>C</td>\n",
       "      <td>Third</td>\n",
       "    </tr>\n",
       "    <tr>\n",
       "      <th>28</th>\n",
       "      <td>1</td>\n",
       "      <td>3</td>\n",
       "      <td>1</td>\n",
       "      <td>NaN</td>\n",
       "      <td>0</td>\n",
       "      <td>0</td>\n",
       "      <td>7.8792</td>\n",
       "      <td>Q</td>\n",
       "      <td>Third</td>\n",
       "    </tr>\n",
       "    <tr>\n",
       "      <th>31</th>\n",
       "      <td>1</td>\n",
       "      <td>1</td>\n",
       "      <td>1</td>\n",
       "      <td>NaN</td>\n",
       "      <td>1</td>\n",
       "      <td>0</td>\n",
       "      <td>146.5208</td>\n",
       "      <td>C</td>\n",
       "      <td>First</td>\n",
       "    </tr>\n",
       "    <tr>\n",
       "      <th>32</th>\n",
       "      <td>1</td>\n",
       "      <td>3</td>\n",
       "      <td>1</td>\n",
       "      <td>NaN</td>\n",
       "      <td>0</td>\n",
       "      <td>0</td>\n",
       "      <td>7.7500</td>\n",
       "      <td>Q</td>\n",
       "      <td>Third</td>\n",
       "    </tr>\n",
       "    <tr>\n",
       "      <th>47</th>\n",
       "      <td>1</td>\n",
       "      <td>3</td>\n",
       "      <td>1</td>\n",
       "      <td>NaN</td>\n",
       "      <td>0</td>\n",
       "      <td>0</td>\n",
       "      <td>7.7500</td>\n",
       "      <td>Q</td>\n",
       "      <td>Third</td>\n",
       "    </tr>\n",
       "    <tr>\n",
       "      <th>82</th>\n",
       "      <td>1</td>\n",
       "      <td>3</td>\n",
       "      <td>1</td>\n",
       "      <td>NaN</td>\n",
       "      <td>0</td>\n",
       "      <td>0</td>\n",
       "      <td>7.7875</td>\n",
       "      <td>Q</td>\n",
       "      <td>Third</td>\n",
       "    </tr>\n",
       "    <tr>\n",
       "      <th>109</th>\n",
       "      <td>1</td>\n",
       "      <td>3</td>\n",
       "      <td>1</td>\n",
       "      <td>NaN</td>\n",
       "      <td>1</td>\n",
       "      <td>0</td>\n",
       "      <td>24.1500</td>\n",
       "      <td>Q</td>\n",
       "      <td>Third</td>\n",
       "    </tr>\n",
       "    <tr>\n",
       "      <th>128</th>\n",
       "      <td>1</td>\n",
       "      <td>3</td>\n",
       "      <td>1</td>\n",
       "      <td>NaN</td>\n",
       "      <td>1</td>\n",
       "      <td>1</td>\n",
       "      <td>22.3583</td>\n",
       "      <td>C</td>\n",
       "      <td>Third</td>\n",
       "    </tr>\n",
       "    <tr>\n",
       "      <th>140</th>\n",
       "      <td>0</td>\n",
       "      <td>3</td>\n",
       "      <td>1</td>\n",
       "      <td>NaN</td>\n",
       "      <td>0</td>\n",
       "      <td>2</td>\n",
       "      <td>15.2458</td>\n",
       "      <td>C</td>\n",
       "      <td>Third</td>\n",
       "    </tr>\n",
       "    <tr>\n",
       "      <th>166</th>\n",
       "      <td>1</td>\n",
       "      <td>1</td>\n",
       "      <td>1</td>\n",
       "      <td>NaN</td>\n",
       "      <td>0</td>\n",
       "      <td>1</td>\n",
       "      <td>55.0000</td>\n",
       "      <td>S</td>\n",
       "      <td>First</td>\n",
       "    </tr>\n",
       "    <tr>\n",
       "      <th>180</th>\n",
       "      <td>0</td>\n",
       "      <td>3</td>\n",
       "      <td>1</td>\n",
       "      <td>NaN</td>\n",
       "      <td>8</td>\n",
       "      <td>2</td>\n",
       "      <td>69.5500</td>\n",
       "      <td>S</td>\n",
       "      <td>Third</td>\n",
       "    </tr>\n",
       "    <tr>\n",
       "      <th>186</th>\n",
       "      <td>1</td>\n",
       "      <td>3</td>\n",
       "      <td>1</td>\n",
       "      <td>NaN</td>\n",
       "      <td>1</td>\n",
       "      <td>0</td>\n",
       "      <td>15.5000</td>\n",
       "      <td>Q</td>\n",
       "      <td>Third</td>\n",
       "    </tr>\n",
       "    <tr>\n",
       "      <th>198</th>\n",
       "      <td>1</td>\n",
       "      <td>3</td>\n",
       "      <td>1</td>\n",
       "      <td>NaN</td>\n",
       "      <td>0</td>\n",
       "      <td>0</td>\n",
       "      <td>7.7500</td>\n",
       "      <td>Q</td>\n",
       "      <td>Third</td>\n",
       "    </tr>\n",
       "    <tr>\n",
       "      <th>229</th>\n",
       "      <td>0</td>\n",
       "      <td>3</td>\n",
       "      <td>1</td>\n",
       "      <td>NaN</td>\n",
       "      <td>3</td>\n",
       "      <td>1</td>\n",
       "      <td>25.4667</td>\n",
       "      <td>S</td>\n",
       "      <td>Third</td>\n",
       "    </tr>\n",
       "    <tr>\n",
       "      <th>235</th>\n",
       "      <td>0</td>\n",
       "      <td>3</td>\n",
       "      <td>1</td>\n",
       "      <td>NaN</td>\n",
       "      <td>0</td>\n",
       "      <td>0</td>\n",
       "      <td>7.5500</td>\n",
       "      <td>S</td>\n",
       "      <td>Third</td>\n",
       "    </tr>\n",
       "    <tr>\n",
       "      <th>240</th>\n",
       "      <td>0</td>\n",
       "      <td>3</td>\n",
       "      <td>1</td>\n",
       "      <td>NaN</td>\n",
       "      <td>1</td>\n",
       "      <td>0</td>\n",
       "      <td>14.4542</td>\n",
       "      <td>C</td>\n",
       "      <td>Third</td>\n",
       "    </tr>\n",
       "    <tr>\n",
       "      <th>241</th>\n",
       "      <td>1</td>\n",
       "      <td>3</td>\n",
       "      <td>1</td>\n",
       "      <td>NaN</td>\n",
       "      <td>1</td>\n",
       "      <td>0</td>\n",
       "      <td>15.5000</td>\n",
       "      <td>Q</td>\n",
       "      <td>Third</td>\n",
       "    </tr>\n",
       "    <tr>\n",
       "      <th>256</th>\n",
       "      <td>1</td>\n",
       "      <td>1</td>\n",
       "      <td>1</td>\n",
       "      <td>NaN</td>\n",
       "      <td>0</td>\n",
       "      <td>0</td>\n",
       "      <td>79.2000</td>\n",
       "      <td>C</td>\n",
       "      <td>First</td>\n",
       "    </tr>\n",
       "    <tr>\n",
       "      <th>264</th>\n",
       "      <td>0</td>\n",
       "      <td>3</td>\n",
       "      <td>1</td>\n",
       "      <td>NaN</td>\n",
       "      <td>0</td>\n",
       "      <td>0</td>\n",
       "      <td>7.7500</td>\n",
       "      <td>Q</td>\n",
       "      <td>Third</td>\n",
       "    </tr>\n",
       "    <tr>\n",
       "      <th>274</th>\n",
       "      <td>1</td>\n",
       "      <td>3</td>\n",
       "      <td>1</td>\n",
       "      <td>NaN</td>\n",
       "      <td>0</td>\n",
       "      <td>0</td>\n",
       "      <td>7.7500</td>\n",
       "      <td>Q</td>\n",
       "      <td>Third</td>\n",
       "    </tr>\n",
       "    <tr>\n",
       "      <th>300</th>\n",
       "      <td>1</td>\n",
       "      <td>3</td>\n",
       "      <td>1</td>\n",
       "      <td>NaN</td>\n",
       "      <td>0</td>\n",
       "      <td>0</td>\n",
       "      <td>7.7500</td>\n",
       "      <td>Q</td>\n",
       "      <td>Third</td>\n",
       "    </tr>\n",
       "    <tr>\n",
       "      <th>303</th>\n",
       "      <td>1</td>\n",
       "      <td>2</td>\n",
       "      <td>1</td>\n",
       "      <td>NaN</td>\n",
       "      <td>0</td>\n",
       "      <td>0</td>\n",
       "      <td>12.3500</td>\n",
       "      <td>Q</td>\n",
       "      <td>Second</td>\n",
       "    </tr>\n",
       "    <tr>\n",
       "      <th>306</th>\n",
       "      <td>1</td>\n",
       "      <td>1</td>\n",
       "      <td>1</td>\n",
       "      <td>NaN</td>\n",
       "      <td>0</td>\n",
       "      <td>0</td>\n",
       "      <td>110.8833</td>\n",
       "      <td>C</td>\n",
       "      <td>First</td>\n",
       "    </tr>\n",
       "    <tr>\n",
       "      <th>330</th>\n",
       "      <td>1</td>\n",
       "      <td>3</td>\n",
       "      <td>1</td>\n",
       "      <td>NaN</td>\n",
       "      <td>2</td>\n",
       "      <td>0</td>\n",
       "      <td>23.2500</td>\n",
       "      <td>Q</td>\n",
       "      <td>Third</td>\n",
       "    </tr>\n",
       "    <tr>\n",
       "      <th>334</th>\n",
       "      <td>1</td>\n",
       "      <td>1</td>\n",
       "      <td>1</td>\n",
       "      <td>NaN</td>\n",
       "      <td>1</td>\n",
       "      <td>0</td>\n",
       "      <td>133.6500</td>\n",
       "      <td>S</td>\n",
       "      <td>First</td>\n",
       "    </tr>\n",
       "    <tr>\n",
       "      <th>347</th>\n",
       "      <td>1</td>\n",
       "      <td>3</td>\n",
       "      <td>1</td>\n",
       "      <td>NaN</td>\n",
       "      <td>1</td>\n",
       "      <td>0</td>\n",
       "      <td>16.1000</td>\n",
       "      <td>S</td>\n",
       "      <td>Third</td>\n",
       "    </tr>\n",
       "    <tr>\n",
       "      <th>358</th>\n",
       "      <td>1</td>\n",
       "      <td>3</td>\n",
       "      <td>1</td>\n",
       "      <td>NaN</td>\n",
       "      <td>0</td>\n",
       "      <td>0</td>\n",
       "      <td>7.8792</td>\n",
       "      <td>Q</td>\n",
       "      <td>Third</td>\n",
       "    </tr>\n",
       "    <tr>\n",
       "      <th>359</th>\n",
       "      <td>1</td>\n",
       "      <td>3</td>\n",
       "      <td>1</td>\n",
       "      <td>NaN</td>\n",
       "      <td>0</td>\n",
       "      <td>0</td>\n",
       "      <td>7.8792</td>\n",
       "      <td>Q</td>\n",
       "      <td>Third</td>\n",
       "    </tr>\n",
       "    <tr>\n",
       "      <th>367</th>\n",
       "      <td>1</td>\n",
       "      <td>3</td>\n",
       "      <td>1</td>\n",
       "      <td>NaN</td>\n",
       "      <td>0</td>\n",
       "      <td>0</td>\n",
       "      <td>7.2292</td>\n",
       "      <td>C</td>\n",
       "      <td>Third</td>\n",
       "    </tr>\n",
       "    <tr>\n",
       "      <th>368</th>\n",
       "      <td>1</td>\n",
       "      <td>3</td>\n",
       "      <td>1</td>\n",
       "      <td>NaN</td>\n",
       "      <td>0</td>\n",
       "      <td>0</td>\n",
       "      <td>7.7500</td>\n",
       "      <td>Q</td>\n",
       "      <td>Third</td>\n",
       "    </tr>\n",
       "    <tr>\n",
       "      <th>375</th>\n",
       "      <td>1</td>\n",
       "      <td>1</td>\n",
       "      <td>1</td>\n",
       "      <td>NaN</td>\n",
       "      <td>1</td>\n",
       "      <td>0</td>\n",
       "      <td>82.1708</td>\n",
       "      <td>C</td>\n",
       "      <td>First</td>\n",
       "    </tr>\n",
       "    <tr>\n",
       "      <th>409</th>\n",
       "      <td>0</td>\n",
       "      <td>3</td>\n",
       "      <td>1</td>\n",
       "      <td>NaN</td>\n",
       "      <td>3</td>\n",
       "      <td>1</td>\n",
       "      <td>25.4667</td>\n",
       "      <td>S</td>\n",
       "      <td>Third</td>\n",
       "    </tr>\n",
       "    <tr>\n",
       "      <th>415</th>\n",
       "      <td>0</td>\n",
       "      <td>3</td>\n",
       "      <td>1</td>\n",
       "      <td>NaN</td>\n",
       "      <td>0</td>\n",
       "      <td>0</td>\n",
       "      <td>8.0500</td>\n",
       "      <td>S</td>\n",
       "      <td>Third</td>\n",
       "    </tr>\n",
       "    <tr>\n",
       "      <th>431</th>\n",
       "      <td>1</td>\n",
       "      <td>3</td>\n",
       "      <td>1</td>\n",
       "      <td>NaN</td>\n",
       "      <td>1</td>\n",
       "      <td>0</td>\n",
       "      <td>16.1000</td>\n",
       "      <td>S</td>\n",
       "      <td>Third</td>\n",
       "    </tr>\n",
       "    <tr>\n",
       "      <th>457</th>\n",
       "      <td>1</td>\n",
       "      <td>1</td>\n",
       "      <td>1</td>\n",
       "      <td>NaN</td>\n",
       "      <td>1</td>\n",
       "      <td>0</td>\n",
       "      <td>51.8625</td>\n",
       "      <td>S</td>\n",
       "      <td>First</td>\n",
       "    </tr>\n",
       "    <tr>\n",
       "      <th>485</th>\n",
       "      <td>0</td>\n",
       "      <td>3</td>\n",
       "      <td>1</td>\n",
       "      <td>NaN</td>\n",
       "      <td>3</td>\n",
       "      <td>1</td>\n",
       "      <td>25.4667</td>\n",
       "      <td>S</td>\n",
       "      <td>Third</td>\n",
       "    </tr>\n",
       "    <tr>\n",
       "      <th>502</th>\n",
       "      <td>0</td>\n",
       "      <td>3</td>\n",
       "      <td>1</td>\n",
       "      <td>NaN</td>\n",
       "      <td>0</td>\n",
       "      <td>0</td>\n",
       "      <td>7.6292</td>\n",
       "      <td>Q</td>\n",
       "      <td>Third</td>\n",
       "    </tr>\n",
       "    <tr>\n",
       "      <th>533</th>\n",
       "      <td>1</td>\n",
       "      <td>3</td>\n",
       "      <td>1</td>\n",
       "      <td>NaN</td>\n",
       "      <td>0</td>\n",
       "      <td>2</td>\n",
       "      <td>22.3583</td>\n",
       "      <td>C</td>\n",
       "      <td>Third</td>\n",
       "    </tr>\n",
       "    <tr>\n",
       "      <th>564</th>\n",
       "      <td>0</td>\n",
       "      <td>3</td>\n",
       "      <td>1</td>\n",
       "      <td>NaN</td>\n",
       "      <td>0</td>\n",
       "      <td>0</td>\n",
       "      <td>8.0500</td>\n",
       "      <td>S</td>\n",
       "      <td>Third</td>\n",
       "    </tr>\n",
       "    <tr>\n",
       "      <th>573</th>\n",
       "      <td>1</td>\n",
       "      <td>3</td>\n",
       "      <td>1</td>\n",
       "      <td>NaN</td>\n",
       "      <td>0</td>\n",
       "      <td>0</td>\n",
       "      <td>7.7500</td>\n",
       "      <td>Q</td>\n",
       "      <td>Third</td>\n",
       "    </tr>\n",
       "    <tr>\n",
       "      <th>578</th>\n",
       "      <td>0</td>\n",
       "      <td>3</td>\n",
       "      <td>1</td>\n",
       "      <td>NaN</td>\n",
       "      <td>1</td>\n",
       "      <td>0</td>\n",
       "      <td>14.4583</td>\n",
       "      <td>C</td>\n",
       "      <td>Third</td>\n",
       "    </tr>\n",
       "    <tr>\n",
       "      <th>593</th>\n",
       "      <td>0</td>\n",
       "      <td>3</td>\n",
       "      <td>1</td>\n",
       "      <td>NaN</td>\n",
       "      <td>0</td>\n",
       "      <td>2</td>\n",
       "      <td>7.7500</td>\n",
       "      <td>Q</td>\n",
       "      <td>Third</td>\n",
       "    </tr>\n",
       "    <tr>\n",
       "      <th>596</th>\n",
       "      <td>1</td>\n",
       "      <td>2</td>\n",
       "      <td>1</td>\n",
       "      <td>NaN</td>\n",
       "      <td>0</td>\n",
       "      <td>0</td>\n",
       "      <td>33.0000</td>\n",
       "      <td>S</td>\n",
       "      <td>Second</td>\n",
       "    </tr>\n",
       "    <tr>\n",
       "      <th>612</th>\n",
       "      <td>1</td>\n",
       "      <td>3</td>\n",
       "      <td>1</td>\n",
       "      <td>NaN</td>\n",
       "      <td>1</td>\n",
       "      <td>0</td>\n",
       "      <td>15.5000</td>\n",
       "      <td>Q</td>\n",
       "      <td>Third</td>\n",
       "    </tr>\n",
       "    <tr>\n",
       "      <th>653</th>\n",
       "      <td>1</td>\n",
       "      <td>3</td>\n",
       "      <td>1</td>\n",
       "      <td>NaN</td>\n",
       "      <td>0</td>\n",
       "      <td>0</td>\n",
       "      <td>7.8292</td>\n",
       "      <td>Q</td>\n",
       "      <td>Third</td>\n",
       "    </tr>\n",
       "    <tr>\n",
       "      <th>669</th>\n",
       "      <td>1</td>\n",
       "      <td>1</td>\n",
       "      <td>1</td>\n",
       "      <td>NaN</td>\n",
       "      <td>1</td>\n",
       "      <td>0</td>\n",
       "      <td>52.0000</td>\n",
       "      <td>S</td>\n",
       "      <td>First</td>\n",
       "    </tr>\n",
       "    <tr>\n",
       "      <th>680</th>\n",
       "      <td>0</td>\n",
       "      <td>3</td>\n",
       "      <td>1</td>\n",
       "      <td>NaN</td>\n",
       "      <td>0</td>\n",
       "      <td>0</td>\n",
       "      <td>8.1375</td>\n",
       "      <td>Q</td>\n",
       "      <td>Third</td>\n",
       "    </tr>\n",
       "    <tr>\n",
       "      <th>697</th>\n",
       "      <td>1</td>\n",
       "      <td>3</td>\n",
       "      <td>1</td>\n",
       "      <td>NaN</td>\n",
       "      <td>0</td>\n",
       "      <td>0</td>\n",
       "      <td>7.7333</td>\n",
       "      <td>Q</td>\n",
       "      <td>Third</td>\n",
       "    </tr>\n",
       "    <tr>\n",
       "      <th>727</th>\n",
       "      <td>1</td>\n",
       "      <td>3</td>\n",
       "      <td>1</td>\n",
       "      <td>NaN</td>\n",
       "      <td>0</td>\n",
       "      <td>0</td>\n",
       "      <td>7.7375</td>\n",
       "      <td>Q</td>\n",
       "      <td>Third</td>\n",
       "    </tr>\n",
       "    <tr>\n",
       "      <th>792</th>\n",
       "      <td>0</td>\n",
       "      <td>3</td>\n",
       "      <td>1</td>\n",
       "      <td>NaN</td>\n",
       "      <td>8</td>\n",
       "      <td>2</td>\n",
       "      <td>69.5500</td>\n",
       "      <td>S</td>\n",
       "      <td>Third</td>\n",
       "    </tr>\n",
       "    <tr>\n",
       "      <th>849</th>\n",
       "      <td>1</td>\n",
       "      <td>1</td>\n",
       "      <td>1</td>\n",
       "      <td>NaN</td>\n",
       "      <td>1</td>\n",
       "      <td>0</td>\n",
       "      <td>89.1042</td>\n",
       "      <td>C</td>\n",
       "      <td>First</td>\n",
       "    </tr>\n",
       "    <tr>\n",
       "      <th>863</th>\n",
       "      <td>0</td>\n",
       "      <td>3</td>\n",
       "      <td>1</td>\n",
       "      <td>NaN</td>\n",
       "      <td>8</td>\n",
       "      <td>2</td>\n",
       "      <td>69.5500</td>\n",
       "      <td>S</td>\n",
       "      <td>Third</td>\n",
       "    </tr>\n",
       "    <tr>\n",
       "      <th>888</th>\n",
       "      <td>0</td>\n",
       "      <td>3</td>\n",
       "      <td>1</td>\n",
       "      <td>NaN</td>\n",
       "      <td>1</td>\n",
       "      <td>2</td>\n",
       "      <td>23.4500</td>\n",
       "      <td>S</td>\n",
       "      <td>Third</td>\n",
       "    </tr>\n",
       "  </tbody>\n",
       "</table>\n",
       "</div>"
      ],
      "text/plain": [
       "     survived  pclass  sex  age  sibsp  parch      fare embarked   class\n",
       "19          1       3    1  NaN      0      0    7.2250        C   Third\n",
       "28          1       3    1  NaN      0      0    7.8792        Q   Third\n",
       "31          1       1    1  NaN      1      0  146.5208        C   First\n",
       "32          1       3    1  NaN      0      0    7.7500        Q   Third\n",
       "47          1       3    1  NaN      0      0    7.7500        Q   Third\n",
       "82          1       3    1  NaN      0      0    7.7875        Q   Third\n",
       "109         1       3    1  NaN      1      0   24.1500        Q   Third\n",
       "128         1       3    1  NaN      1      1   22.3583        C   Third\n",
       "140         0       3    1  NaN      0      2   15.2458        C   Third\n",
       "166         1       1    1  NaN      0      1   55.0000        S   First\n",
       "180         0       3    1  NaN      8      2   69.5500        S   Third\n",
       "186         1       3    1  NaN      1      0   15.5000        Q   Third\n",
       "198         1       3    1  NaN      0      0    7.7500        Q   Third\n",
       "229         0       3    1  NaN      3      1   25.4667        S   Third\n",
       "235         0       3    1  NaN      0      0    7.5500        S   Third\n",
       "240         0       3    1  NaN      1      0   14.4542        C   Third\n",
       "241         1       3    1  NaN      1      0   15.5000        Q   Third\n",
       "256         1       1    1  NaN      0      0   79.2000        C   First\n",
       "264         0       3    1  NaN      0      0    7.7500        Q   Third\n",
       "274         1       3    1  NaN      0      0    7.7500        Q   Third\n",
       "300         1       3    1  NaN      0      0    7.7500        Q   Third\n",
       "303         1       2    1  NaN      0      0   12.3500        Q  Second\n",
       "306         1       1    1  NaN      0      0  110.8833        C   First\n",
       "330         1       3    1  NaN      2      0   23.2500        Q   Third\n",
       "334         1       1    1  NaN      1      0  133.6500        S   First\n",
       "347         1       3    1  NaN      1      0   16.1000        S   Third\n",
       "358         1       3    1  NaN      0      0    7.8792        Q   Third\n",
       "359         1       3    1  NaN      0      0    7.8792        Q   Third\n",
       "367         1       3    1  NaN      0      0    7.2292        C   Third\n",
       "368         1       3    1  NaN      0      0    7.7500        Q   Third\n",
       "375         1       1    1  NaN      1      0   82.1708        C   First\n",
       "409         0       3    1  NaN      3      1   25.4667        S   Third\n",
       "415         0       3    1  NaN      0      0    8.0500        S   Third\n",
       "431         1       3    1  NaN      1      0   16.1000        S   Third\n",
       "457         1       1    1  NaN      1      0   51.8625        S   First\n",
       "485         0       3    1  NaN      3      1   25.4667        S   Third\n",
       "502         0       3    1  NaN      0      0    7.6292        Q   Third\n",
       "533         1       3    1  NaN      0      2   22.3583        C   Third\n",
       "564         0       3    1  NaN      0      0    8.0500        S   Third\n",
       "573         1       3    1  NaN      0      0    7.7500        Q   Third\n",
       "578         0       3    1  NaN      1      0   14.4583        C   Third\n",
       "593         0       3    1  NaN      0      2    7.7500        Q   Third\n",
       "596         1       2    1  NaN      0      0   33.0000        S  Second\n",
       "612         1       3    1  NaN      1      0   15.5000        Q   Third\n",
       "653         1       3    1  NaN      0      0    7.8292        Q   Third\n",
       "669         1       1    1  NaN      1      0   52.0000        S   First\n",
       "680         0       3    1  NaN      0      0    8.1375        Q   Third\n",
       "697         1       3    1  NaN      0      0    7.7333        Q   Third\n",
       "727         1       3    1  NaN      0      0    7.7375        Q   Third\n",
       "792         0       3    1  NaN      8      2   69.5500        S   Third\n",
       "849         1       1    1  NaN      1      0   89.1042        C   First\n",
       "863         0       3    1  NaN      8      2   69.5500        S   Third\n",
       "888         0       3    1  NaN      1      2   23.4500        S   Third"
      ]
     },
     "execution_count": 7,
     "metadata": {},
     "output_type": "execute_result"
    }
   ],
   "source": [
    "titanic[(titanic['age'].isna()) & (titanic['sex']==1)]"
   ]
  },
  {
   "cell_type": "code",
   "execution_count": 8,
   "id": "d20755c2",
   "metadata": {},
   "outputs": [
    {
     "data": {
      "text/html": [
       "<div>\n",
       "<style scoped>\n",
       "    .dataframe tbody tr th:only-of-type {\n",
       "        vertical-align: middle;\n",
       "    }\n",
       "\n",
       "    .dataframe tbody tr th {\n",
       "        vertical-align: top;\n",
       "    }\n",
       "\n",
       "    .dataframe thead th {\n",
       "        text-align: right;\n",
       "    }\n",
       "</style>\n",
       "<table border=\"1\" class=\"dataframe\">\n",
       "  <thead>\n",
       "    <tr style=\"text-align: right;\">\n",
       "      <th></th>\n",
       "      <th>survived</th>\n",
       "      <th>pclass</th>\n",
       "      <th>sex</th>\n",
       "      <th>age</th>\n",
       "      <th>sibsp</th>\n",
       "      <th>parch</th>\n",
       "      <th>fare</th>\n",
       "      <th>embarked</th>\n",
       "      <th>class</th>\n",
       "    </tr>\n",
       "  </thead>\n",
       "  <tbody>\n",
       "    <tr>\n",
       "      <th>5</th>\n",
       "      <td>0</td>\n",
       "      <td>3</td>\n",
       "      <td>0</td>\n",
       "      <td>NaN</td>\n",
       "      <td>0</td>\n",
       "      <td>0</td>\n",
       "      <td>8.4583</td>\n",
       "      <td>Q</td>\n",
       "      <td>Third</td>\n",
       "    </tr>\n",
       "    <tr>\n",
       "      <th>17</th>\n",
       "      <td>1</td>\n",
       "      <td>2</td>\n",
       "      <td>0</td>\n",
       "      <td>NaN</td>\n",
       "      <td>0</td>\n",
       "      <td>0</td>\n",
       "      <td>13.0000</td>\n",
       "      <td>S</td>\n",
       "      <td>Second</td>\n",
       "    </tr>\n",
       "    <tr>\n",
       "      <th>26</th>\n",
       "      <td>0</td>\n",
       "      <td>3</td>\n",
       "      <td>0</td>\n",
       "      <td>NaN</td>\n",
       "      <td>0</td>\n",
       "      <td>0</td>\n",
       "      <td>7.2250</td>\n",
       "      <td>C</td>\n",
       "      <td>Third</td>\n",
       "    </tr>\n",
       "    <tr>\n",
       "      <th>29</th>\n",
       "      <td>0</td>\n",
       "      <td>3</td>\n",
       "      <td>0</td>\n",
       "      <td>NaN</td>\n",
       "      <td>0</td>\n",
       "      <td>0</td>\n",
       "      <td>7.8958</td>\n",
       "      <td>S</td>\n",
       "      <td>Third</td>\n",
       "    </tr>\n",
       "    <tr>\n",
       "      <th>36</th>\n",
       "      <td>1</td>\n",
       "      <td>3</td>\n",
       "      <td>0</td>\n",
       "      <td>NaN</td>\n",
       "      <td>0</td>\n",
       "      <td>0</td>\n",
       "      <td>7.2292</td>\n",
       "      <td>C</td>\n",
       "      <td>Third</td>\n",
       "    </tr>\n",
       "    <tr>\n",
       "      <th>...</th>\n",
       "      <td>...</td>\n",
       "      <td>...</td>\n",
       "      <td>...</td>\n",
       "      <td>...</td>\n",
       "      <td>...</td>\n",
       "      <td>...</td>\n",
       "      <td>...</td>\n",
       "      <td>...</td>\n",
       "      <td>...</td>\n",
       "    </tr>\n",
       "    <tr>\n",
       "      <th>839</th>\n",
       "      <td>1</td>\n",
       "      <td>1</td>\n",
       "      <td>0</td>\n",
       "      <td>NaN</td>\n",
       "      <td>0</td>\n",
       "      <td>0</td>\n",
       "      <td>29.7000</td>\n",
       "      <td>C</td>\n",
       "      <td>First</td>\n",
       "    </tr>\n",
       "    <tr>\n",
       "      <th>846</th>\n",
       "      <td>0</td>\n",
       "      <td>3</td>\n",
       "      <td>0</td>\n",
       "      <td>NaN</td>\n",
       "      <td>8</td>\n",
       "      <td>2</td>\n",
       "      <td>69.5500</td>\n",
       "      <td>S</td>\n",
       "      <td>Third</td>\n",
       "    </tr>\n",
       "    <tr>\n",
       "      <th>859</th>\n",
       "      <td>0</td>\n",
       "      <td>3</td>\n",
       "      <td>0</td>\n",
       "      <td>NaN</td>\n",
       "      <td>0</td>\n",
       "      <td>0</td>\n",
       "      <td>7.2292</td>\n",
       "      <td>C</td>\n",
       "      <td>Third</td>\n",
       "    </tr>\n",
       "    <tr>\n",
       "      <th>868</th>\n",
       "      <td>0</td>\n",
       "      <td>3</td>\n",
       "      <td>0</td>\n",
       "      <td>NaN</td>\n",
       "      <td>0</td>\n",
       "      <td>0</td>\n",
       "      <td>9.5000</td>\n",
       "      <td>S</td>\n",
       "      <td>Third</td>\n",
       "    </tr>\n",
       "    <tr>\n",
       "      <th>878</th>\n",
       "      <td>0</td>\n",
       "      <td>3</td>\n",
       "      <td>0</td>\n",
       "      <td>NaN</td>\n",
       "      <td>0</td>\n",
       "      <td>0</td>\n",
       "      <td>7.8958</td>\n",
       "      <td>S</td>\n",
       "      <td>Third</td>\n",
       "    </tr>\n",
       "  </tbody>\n",
       "</table>\n",
       "<p>124 rows × 9 columns</p>\n",
       "</div>"
      ],
      "text/plain": [
       "     survived  pclass  sex  age  sibsp  parch     fare embarked   class\n",
       "5           0       3    0  NaN      0      0   8.4583        Q   Third\n",
       "17          1       2    0  NaN      0      0  13.0000        S  Second\n",
       "26          0       3    0  NaN      0      0   7.2250        C   Third\n",
       "29          0       3    0  NaN      0      0   7.8958        S   Third\n",
       "36          1       3    0  NaN      0      0   7.2292        C   Third\n",
       "..        ...     ...  ...  ...    ...    ...      ...      ...     ...\n",
       "839         1       1    0  NaN      0      0  29.7000        C   First\n",
       "846         0       3    0  NaN      8      2  69.5500        S   Third\n",
       "859         0       3    0  NaN      0      0   7.2292        C   Third\n",
       "868         0       3    0  NaN      0      0   9.5000        S   Third\n",
       "878         0       3    0  NaN      0      0   7.8958        S   Third\n",
       "\n",
       "[124 rows x 9 columns]"
      ]
     },
     "execution_count": 8,
     "metadata": {},
     "output_type": "execute_result"
    }
   ],
   "source": [
    "titanic[(titanic['age'].isna()) & (titanic['sex']==0)]"
   ]
  },
  {
   "cell_type": "code",
   "execution_count": 9,
   "id": "8ab7c51e",
   "metadata": {},
   "outputs": [
    {
     "data": {
      "text/plain": [
       "18.0"
      ]
     },
     "execution_count": 9,
     "metadata": {},
     "output_type": "execute_result"
    }
   ],
   "source": [
    "age_f= titanic[(titanic['sex']==1) & (titanic['class']=='Third')]['age'].mode()[0]\n",
    "age_f"
   ]
  },
  {
   "cell_type": "code",
   "execution_count": 10,
   "id": "4e119108",
   "metadata": {},
   "outputs": [
    {
     "data": {
      "text/plain": [
       "Third     94\n",
       "First     21\n",
       "Second     9\n",
       "Name: class, dtype: int64"
      ]
     },
     "execution_count": 10,
     "metadata": {},
     "output_type": "execute_result"
    }
   ],
   "source": [
    "titanic[(titanic['age'].isna()) & (titanic['sex']==0)]['class'].value_counts()"
   ]
  },
  {
   "cell_type": "code",
   "execution_count": 11,
   "id": "556dea9c",
   "metadata": {},
   "outputs": [
    {
     "data": {
      "text/plain": [
       "22.0"
      ]
     },
     "execution_count": 11,
     "metadata": {},
     "output_type": "execute_result"
    }
   ],
   "source": [
    "age_m= titanic[(titanic['sex']==0) & (titanic['class']=='Third')]['age'].mode()[0]\n",
    "age_m"
   ]
  },
  {
   "cell_type": "code",
   "execution_count": 12,
   "id": "071ad91d",
   "metadata": {},
   "outputs": [],
   "source": [
    "#titanic.mask?"
   ]
  },
  {
   "cell_type": "code",
   "execution_count": 13,
   "id": "b7829b28",
   "metadata": {},
   "outputs": [],
   "source": [
    "cond = (titanic['age'].isna()) & (titanic['sex']== 1)\n",
    "titanic['age'].mask(cond,age_f,inplace=True)\n"
   ]
  },
  {
   "cell_type": "code",
   "execution_count": 14,
   "id": "f843175a",
   "metadata": {},
   "outputs": [],
   "source": [
    "cond_m = (titanic['age'].isna()) & (titanic['sex']== 0)\n",
    "titanic['age'].mask(cond_m,age_m,inplace=True)\n"
   ]
  },
  {
   "cell_type": "code",
   "execution_count": 15,
   "id": "67c15a89",
   "metadata": {},
   "outputs": [
    {
     "data": {
      "text/plain": [
       "S    644\n",
       "C    168\n",
       "Q     77\n",
       "Name: embarked, dtype: int64"
      ]
     },
     "execution_count": 15,
     "metadata": {},
     "output_type": "execute_result"
    }
   ],
   "source": [
    "titanic['embarked'].value_counts()"
   ]
  },
  {
   "cell_type": "code",
   "execution_count": 16,
   "id": "e41fa2b8",
   "metadata": {},
   "outputs": [
    {
     "data": {
      "text/html": [
       "<div>\n",
       "<style scoped>\n",
       "    .dataframe tbody tr th:only-of-type {\n",
       "        vertical-align: middle;\n",
       "    }\n",
       "\n",
       "    .dataframe tbody tr th {\n",
       "        vertical-align: top;\n",
       "    }\n",
       "\n",
       "    .dataframe thead th {\n",
       "        text-align: right;\n",
       "    }\n",
       "</style>\n",
       "<table border=\"1\" class=\"dataframe\">\n",
       "  <thead>\n",
       "    <tr style=\"text-align: right;\">\n",
       "      <th></th>\n",
       "      <th>survived</th>\n",
       "      <th>pclass</th>\n",
       "      <th>sex</th>\n",
       "      <th>age</th>\n",
       "      <th>sibsp</th>\n",
       "      <th>parch</th>\n",
       "      <th>fare</th>\n",
       "      <th>embarked</th>\n",
       "      <th>class</th>\n",
       "    </tr>\n",
       "  </thead>\n",
       "  <tbody>\n",
       "    <tr>\n",
       "      <th>61</th>\n",
       "      <td>1</td>\n",
       "      <td>1</td>\n",
       "      <td>1</td>\n",
       "      <td>38.0</td>\n",
       "      <td>0</td>\n",
       "      <td>0</td>\n",
       "      <td>80.0</td>\n",
       "      <td>NaN</td>\n",
       "      <td>First</td>\n",
       "    </tr>\n",
       "    <tr>\n",
       "      <th>829</th>\n",
       "      <td>1</td>\n",
       "      <td>1</td>\n",
       "      <td>1</td>\n",
       "      <td>62.0</td>\n",
       "      <td>0</td>\n",
       "      <td>0</td>\n",
       "      <td>80.0</td>\n",
       "      <td>NaN</td>\n",
       "      <td>First</td>\n",
       "    </tr>\n",
       "  </tbody>\n",
       "</table>\n",
       "</div>"
      ],
      "text/plain": [
       "     survived  pclass  sex   age  sibsp  parch  fare embarked  class\n",
       "61          1       1    1  38.0      0      0  80.0      NaN  First\n",
       "829         1       1    1  62.0      0      0  80.0      NaN  First"
      ]
     },
     "execution_count": 16,
     "metadata": {},
     "output_type": "execute_result"
    }
   ],
   "source": [
    "titanic[titanic['embarked'].isna()]"
   ]
  },
  {
   "cell_type": "code",
   "execution_count": 17,
   "id": "cbb151c5",
   "metadata": {},
   "outputs": [],
   "source": [
    "cond_emb = titanic['embarked'].isna()\n",
    "titanic['embarked'].mask(cond_emb,'S',inplace=True)"
   ]
  },
  {
   "cell_type": "code",
   "execution_count": 18,
   "id": "6dfc0641",
   "metadata": {},
   "outputs": [
    {
     "data": {
      "text/plain": [
       "survived    0\n",
       "pclass      0\n",
       "sex         0\n",
       "age         0\n",
       "sibsp       0\n",
       "parch       0\n",
       "fare        0\n",
       "embarked    0\n",
       "class       0\n",
       "dtype: int64"
      ]
     },
     "execution_count": 18,
     "metadata": {},
     "output_type": "execute_result"
    }
   ],
   "source": [
    "titanic.isna().sum()"
   ]
  },
  {
   "cell_type": "code",
   "execution_count": 19,
   "id": "d862fef6",
   "metadata": {},
   "outputs": [],
   "source": [
    "titanic= pd.get_dummies(data=titanic,columns=['embarked','class'],drop_first= True)"
   ]
  },
  {
   "cell_type": "code",
   "execution_count": 20,
   "id": "fab5ed04",
   "metadata": {},
   "outputs": [],
   "source": [
    "X = titanic.drop('survived',axis = 1)\n",
    "y=titanic['survived']"
   ]
  },
  {
   "cell_type": "code",
   "execution_count": 21,
   "id": "508bb3bd",
   "metadata": {},
   "outputs": [
    {
     "name": "stdout",
     "output_type": "stream",
     "text": [
      "<class 'pandas.core.frame.DataFrame'>\n",
      "RangeIndex: 891 entries, 0 to 890\n",
      "Data columns (total 10 columns):\n",
      " #   Column        Non-Null Count  Dtype  \n",
      "---  ------        --------------  -----  \n",
      " 0   pclass        891 non-null    int64  \n",
      " 1   sex           891 non-null    int64  \n",
      " 2   age           891 non-null    float64\n",
      " 3   sibsp         891 non-null    int64  \n",
      " 4   parch         891 non-null    int64  \n",
      " 5   fare          891 non-null    float64\n",
      " 6   embarked_Q    891 non-null    uint8  \n",
      " 7   embarked_S    891 non-null    uint8  \n",
      " 8   class_Second  891 non-null    uint8  \n",
      " 9   class_Third   891 non-null    uint8  \n",
      "dtypes: float64(2), int64(4), uint8(4)\n",
      "memory usage: 45.4 KB\n"
     ]
    }
   ],
   "source": [
    "X.info()"
   ]
  },
  {
   "cell_type": "code",
   "execution_count": 22,
   "id": "365f5e98",
   "metadata": {},
   "outputs": [
    {
     "data": {
      "text/plain": [
       "(891, 10)"
      ]
     },
     "execution_count": 22,
     "metadata": {},
     "output_type": "execute_result"
    }
   ],
   "source": [
    "X.shape"
   ]
  },
  {
   "cell_type": "code",
   "execution_count": 23,
   "id": "373f2d69",
   "metadata": {},
   "outputs": [],
   "source": [
    "model = Sequential([\n",
    "    Dense(3,activation='relu',input_shape=(10,)),\n",
    "    Dense(1,activation='sigmoid')\n",
    "])\n"
   ]
  },
  {
   "cell_type": "code",
   "execution_count": 24,
   "id": "b48c80ff",
   "metadata": {},
   "outputs": [
    {
     "name": "stdout",
     "output_type": "stream",
     "text": [
      "Model: \"sequential\"\n",
      "_________________________________________________________________\n",
      " Layer (type)                Output Shape              Param #   \n",
      "=================================================================\n",
      " dense (Dense)               (None, 3)                 33        \n",
      "                                                                 \n",
      " dense_1 (Dense)             (None, 1)                 4         \n",
      "                                                                 \n",
      "=================================================================\n",
      "Total params: 37\n",
      "Trainable params: 37\n",
      "Non-trainable params: 0\n",
      "_________________________________________________________________\n"
     ]
    }
   ],
   "source": [
    "model.summary()"
   ]
  },
  {
   "cell_type": "code",
   "execution_count": 25,
   "id": "4816a22e",
   "metadata": {},
   "outputs": [],
   "source": [
    "model.compile(optimizer='adam',\n",
    "             loss ='binary_crossentropy',\n",
    "             metrics= ['accuracy'])"
   ]
  },
  {
   "cell_type": "code",
   "execution_count": 26,
   "id": "e4cba49e",
   "metadata": {},
   "outputs": [],
   "source": [
    "scaler = StandardScaler()\n",
    "X= scaler.fit_transform(X)"
   ]
  },
  {
   "cell_type": "code",
   "execution_count": 27,
   "id": "9936b5de",
   "metadata": {},
   "outputs": [
    {
     "name": "stdout",
     "output_type": "stream",
     "text": [
      "Epoch 1/10\n",
      "623/623 - 7s - loss: 0.8937 - accuracy: 0.4494 - val_loss: 0.8244 - val_accuracy: 0.5112 - 7s/epoch - 11ms/step\n",
      "Epoch 2/10\n",
      "623/623 - 5s - loss: 0.6828 - accuracy: 0.6100 - val_loss: 0.6559 - val_accuracy: 0.6567 - 5s/epoch - 8ms/step\n",
      "Epoch 3/10\n",
      "623/623 - 5s - loss: 0.5786 - accuracy: 0.7432 - val_loss: 0.5617 - val_accuracy: 0.7575 - 5s/epoch - 9ms/step\n",
      "Epoch 4/10\n",
      "623/623 - 5s - loss: 0.5201 - accuracy: 0.7929 - val_loss: 0.5103 - val_accuracy: 0.7687 - 5s/epoch - 8ms/step\n",
      "Epoch 5/10\n",
      "623/623 - 5s - loss: 0.4916 - accuracy: 0.8026 - val_loss: 0.4845 - val_accuracy: 0.7836 - 5s/epoch - 7ms/step\n",
      "Epoch 6/10\n",
      "623/623 - 5s - loss: 0.4760 - accuracy: 0.8138 - val_loss: 0.4658 - val_accuracy: 0.8022 - 5s/epoch - 8ms/step\n",
      "Epoch 7/10\n",
      "623/623 - 4s - loss: 0.4664 - accuracy: 0.8090 - val_loss: 0.4518 - val_accuracy: 0.8060 - 4s/epoch - 7ms/step\n",
      "Epoch 8/10\n",
      "623/623 - 5s - loss: 0.4573 - accuracy: 0.8138 - val_loss: 0.4403 - val_accuracy: 0.8172 - 5s/epoch - 8ms/step\n",
      "Epoch 9/10\n",
      "623/623 - 5s - loss: 0.4505 - accuracy: 0.8154 - val_loss: 0.4292 - val_accuracy: 0.8209 - 5s/epoch - 7ms/step\n",
      "Epoch 10/10\n",
      "623/623 - 4s - loss: 0.4465 - accuracy: 0.8170 - val_loss: 0.4218 - val_accuracy: 0.8172 - 4s/epoch - 6ms/step\n"
     ]
    }
   ],
   "source": [
    "model.fit(X,y,validation_split=0.3,batch_size =1, epochs= 10, verbose=2);"
   ]
  },
  {
   "cell_type": "code",
   "execution_count": 28,
   "id": "897cfbd9",
   "metadata": {},
   "outputs": [],
   "source": [
    "model.save('titanic_classification.h5')"
   ]
  },
  {
   "cell_type": "code",
   "execution_count": 29,
   "id": "291e215f",
   "metadata": {},
   "outputs": [
    {
     "data": {
      "text/plain": [
       "0    0\n",
       "1    1\n",
       "2    1\n",
       "3    1\n",
       "4    0\n",
       "Name: survived, dtype: int64"
      ]
     },
     "execution_count": 29,
     "metadata": {},
     "output_type": "execute_result"
    }
   ],
   "source": [
    "y[:5]"
   ]
  },
  {
   "cell_type": "code",
   "execution_count": 30,
   "id": "947f1a0b",
   "metadata": {},
   "outputs": [
    {
     "name": "stdout",
     "output_type": "stream",
     "text": [
      "1/1 [==============================] - 0s 96ms/step\n"
     ]
    },
    {
     "data": {
      "text/plain": [
       "array([[0.12890378],\n",
       "       [0.9266609 ],\n",
       "       [0.45091113],\n",
       "       [0.90925956],\n",
       "       [0.10633822]], dtype=float32)"
      ]
     },
     "execution_count": 30,
     "metadata": {},
     "output_type": "execute_result"
    }
   ],
   "source": [
    "model.predict(X[:5])"
   ]
  },
  {
   "cell_type": "code",
   "execution_count": 31,
   "id": "0ad007b0",
   "metadata": {},
   "outputs": [
    {
     "name": "stdout",
     "output_type": "stream",
     "text": [
      "1/1 [==============================] - 0s 62ms/step\n"
     ]
    },
    {
     "data": {
      "text/plain": [
       "array([[0.12890378],\n",
       "       [0.9266609 ],\n",
       "       [0.45091113],\n",
       "       [0.90925956],\n",
       "       [0.10633822]], dtype=float32)"
      ]
     },
     "execution_count": 31,
     "metadata": {},
     "output_type": "execute_result"
    }
   ],
   "source": [
    "model.predict(X[:5])"
   ]
  },
  {
   "cell_type": "code",
   "execution_count": 32,
   "id": "96fac25b",
   "metadata": {},
   "outputs": [],
   "source": [
    "model1 = Sequential([\n",
    "    Dense(3,activation='relu',input_shape=(10,)),\n",
    "    Dense(2,activation='softmax')\n",
    "])\n"
   ]
  },
  {
   "cell_type": "code",
   "execution_count": 33,
   "id": "6d50446a",
   "metadata": {},
   "outputs": [],
   "source": [
    "model1.compile(optimizer = 'adam',\n",
    "              loss= 'categorical_crossentropy',\n",
    "              metrics= 'accuracy')\n"
   ]
  },
  {
   "cell_type": "code",
   "execution_count": 34,
   "id": "0436a859",
   "metadata": {},
   "outputs": [
    {
     "data": {
      "text/plain": [
       "array([[1., 0.],\n",
       "       [0., 1.],\n",
       "       [0., 1.],\n",
       "       ...,\n",
       "       [1., 0.],\n",
       "       [0., 1.],\n",
       "       [1., 0.]], dtype=float32)"
      ]
     },
     "execution_count": 34,
     "metadata": {},
     "output_type": "execute_result"
    }
   ],
   "source": [
    "from tensorflow.keras.utils import to_categorical\n",
    "y1 = to_categorical(y,2)\n",
    "y1"
   ]
  },
  {
   "cell_type": "code",
   "execution_count": 35,
   "id": "b7e48072",
   "metadata": {},
   "outputs": [
    {
     "name": "stdout",
     "output_type": "stream",
     "text": [
      "(891, 10)\n",
      "(891, 2)\n"
     ]
    }
   ],
   "source": [
    "print(X.shape)\n",
    "print(y1.shape)"
   ]
  },
  {
   "cell_type": "code",
   "execution_count": 36,
   "id": "d24b7916",
   "metadata": {},
   "outputs": [
    {
     "name": "stdout",
     "output_type": "stream",
     "text": [
      "Epoch 1/10\n",
      "312/312 - 3s - loss: 0.8785 - accuracy: 0.4992 - val_loss: 0.8051 - val_accuracy: 0.5746 - 3s/epoch - 11ms/step\n",
      "Epoch 2/10\n",
      "312/312 - 3s - loss: 0.7338 - accuracy: 0.6003 - val_loss: 0.6939 - val_accuracy: 0.6231 - 3s/epoch - 9ms/step\n",
      "Epoch 3/10\n",
      "312/312 - 2s - loss: 0.6559 - accuracy: 0.6292 - val_loss: 0.6288 - val_accuracy: 0.6455 - 2s/epoch - 7ms/step\n",
      "Epoch 4/10\n",
      "312/312 - 3s - loss: 0.6091 - accuracy: 0.6629 - val_loss: 0.5837 - val_accuracy: 0.6828 - 3s/epoch - 9ms/step\n",
      "Epoch 5/10\n",
      "312/312 - 2s - loss: 0.5737 - accuracy: 0.7223 - val_loss: 0.5496 - val_accuracy: 0.7276 - 2s/epoch - 6ms/step\n",
      "Epoch 6/10\n",
      "312/312 - 1s - loss: 0.5434 - accuracy: 0.7721 - val_loss: 0.5204 - val_accuracy: 0.7612 - 1s/epoch - 4ms/step\n",
      "Epoch 7/10\n",
      "312/312 - 1s - loss: 0.5180 - accuracy: 0.7897 - val_loss: 0.4971 - val_accuracy: 0.7836 - 1s/epoch - 4ms/step\n",
      "Epoch 8/10\n",
      "312/312 - 2s - loss: 0.4958 - accuracy: 0.7994 - val_loss: 0.4817 - val_accuracy: 0.7724 - 2s/epoch - 8ms/step\n",
      "Epoch 9/10\n",
      "312/312 - 3s - loss: 0.4805 - accuracy: 0.8106 - val_loss: 0.4723 - val_accuracy: 0.7799 - 3s/epoch - 9ms/step\n",
      "Epoch 10/10\n",
      "312/312 - 3s - loss: 0.4695 - accuracy: 0.8058 - val_loss: 0.4634 - val_accuracy: 0.7836 - 3s/epoch - 9ms/step\n"
     ]
    },
    {
     "data": {
      "text/plain": [
       "<keras.callbacks.History at 0x20074006f10>"
      ]
     },
     "execution_count": 36,
     "metadata": {},
     "output_type": "execute_result"
    }
   ],
   "source": [
    "model1.fit(X,y1,validation_split= 0.3,batch_size=2,epochs =10, verbose = 2)"
   ]
  },
  {
   "cell_type": "code",
   "execution_count": 37,
   "id": "ae9e8e2f",
   "metadata": {},
   "outputs": [
    {
     "data": {
      "text/plain": [
       "array([[1., 0.],\n",
       "       [0., 1.],\n",
       "       [0., 1.],\n",
       "       [0., 1.],\n",
       "       [1., 0.]], dtype=float32)"
      ]
     },
     "execution_count": 37,
     "metadata": {},
     "output_type": "execute_result"
    }
   ],
   "source": [
    "y1[:5]"
   ]
  },
  {
   "cell_type": "code",
   "execution_count": 38,
   "id": "60922b59",
   "metadata": {},
   "outputs": [
    {
     "name": "stdout",
     "output_type": "stream",
     "text": [
      "1/1 [==============================] - 0s 104ms/step\n"
     ]
    },
    {
     "data": {
      "text/plain": [
       "array([[0.72357625, 0.27642378],\n",
       "       [0.06943174, 0.9305682 ],\n",
       "       [0.66162705, 0.33837295],\n",
       "       [0.12226231, 0.87773764],\n",
       "       [0.9054077 , 0.09459232]], dtype=float32)"
      ]
     },
     "execution_count": 38,
     "metadata": {},
     "output_type": "execute_result"
    }
   ],
   "source": [
    "model1.predict(X[:5])"
   ]
  },
  {
   "cell_type": "code",
   "execution_count": 39,
   "id": "b32dea16",
   "metadata": {},
   "outputs": [],
   "source": [
    "model2 = Sequential([\n",
    "    Dense(3,activation='relu',input_shape=(10,)),\n",
    "    Dense(1,activation='sigmoid')\n",
    "])\n"
   ]
  },
  {
   "cell_type": "code",
   "execution_count": 40,
   "id": "b990e3c7",
   "metadata": {},
   "outputs": [],
   "source": [
    "models = ['sgd','adam','rmsprop']"
   ]
  },
  {
   "cell_type": "code",
   "execution_count": 41,
   "id": "4ae348fe",
   "metadata": {},
   "outputs": [
    {
     "name": "stdout",
     "output_type": "stream",
     "text": [
      "Model using  sgd optimizer\n",
      "Epoch 1/20\n",
      "20/20 - 1s - loss: 0.9386 - accuracy: 0.4061 - val_loss: 0.8783 - val_accuracy: 0.4104 - 1s/epoch - 68ms/step\n",
      "Epoch 2/20\n",
      "20/20 - 0s - loss: 0.8934 - accuracy: 0.4189 - val_loss: 0.8411 - val_accuracy: 0.4067 - 200ms/epoch - 10ms/step\n",
      "Epoch 3/20\n",
      "20/20 - 0s - loss: 0.8575 - accuracy: 0.4254 - val_loss: 0.8117 - val_accuracy: 0.4104 - 284ms/epoch - 14ms/step\n",
      "Epoch 4/20\n",
      "20/20 - 0s - loss: 0.8283 - accuracy: 0.4430 - val_loss: 0.7877 - val_accuracy: 0.4366 - 291ms/epoch - 15ms/step\n",
      "Epoch 5/20\n",
      "20/20 - 0s - loss: 0.8044 - accuracy: 0.4575 - val_loss: 0.7673 - val_accuracy: 0.4440 - 255ms/epoch - 13ms/step\n",
      "Epoch 6/20\n",
      "20/20 - 0s - loss: 0.7844 - accuracy: 0.4623 - val_loss: 0.7512 - val_accuracy: 0.4590 - 297ms/epoch - 15ms/step\n",
      "Epoch 7/20\n",
      "20/20 - 0s - loss: 0.7685 - accuracy: 0.4767 - val_loss: 0.7371 - val_accuracy: 0.4739 - 280ms/epoch - 14ms/step\n",
      "Epoch 8/20\n",
      "20/20 - 0s - loss: 0.7543 - accuracy: 0.4831 - val_loss: 0.7251 - val_accuracy: 0.4813 - 264ms/epoch - 13ms/step\n",
      "Epoch 9/20\n",
      "20/20 - 0s - loss: 0.7421 - accuracy: 0.4992 - val_loss: 0.7150 - val_accuracy: 0.4925 - 295ms/epoch - 15ms/step\n",
      "Epoch 10/20\n",
      "20/20 - 0s - loss: 0.7318 - accuracy: 0.5040 - val_loss: 0.7063 - val_accuracy: 0.5037 - 265ms/epoch - 13ms/step\n",
      "Epoch 11/20\n",
      "20/20 - 0s - loss: 0.7230 - accuracy: 0.5313 - val_loss: 0.6989 - val_accuracy: 0.5522 - 284ms/epoch - 14ms/step\n",
      "Epoch 12/20\n",
      "20/20 - 0s - loss: 0.7151 - accuracy: 0.5843 - val_loss: 0.6922 - val_accuracy: 0.5746 - 256ms/epoch - 13ms/step\n",
      "Epoch 13/20\n",
      "20/20 - 0s - loss: 0.7082 - accuracy: 0.6100 - val_loss: 0.6861 - val_accuracy: 0.5933 - 256ms/epoch - 13ms/step\n",
      "Epoch 14/20\n",
      "20/20 - 0s - loss: 0.7020 - accuracy: 0.6212 - val_loss: 0.6810 - val_accuracy: 0.6045 - 128ms/epoch - 6ms/step\n",
      "Epoch 15/20\n",
      "20/20 - 0s - loss: 0.6965 - accuracy: 0.6244 - val_loss: 0.6764 - val_accuracy: 0.6269 - 128ms/epoch - 6ms/step\n",
      "Epoch 16/20\n",
      "20/20 - 0s - loss: 0.6916 - accuracy: 0.6308 - val_loss: 0.6726 - val_accuracy: 0.6343 - 152ms/epoch - 8ms/step\n",
      "Epoch 17/20\n",
      "20/20 - 0s - loss: 0.6877 - accuracy: 0.6308 - val_loss: 0.6697 - val_accuracy: 0.6343 - 144ms/epoch - 7ms/step\n",
      "Epoch 18/20\n",
      "20/20 - 0s - loss: 0.6845 - accuracy: 0.6308 - val_loss: 0.6670 - val_accuracy: 0.6343 - 144ms/epoch - 7ms/step\n",
      "Epoch 19/20\n",
      "20/20 - 0s - loss: 0.6815 - accuracy: 0.6324 - val_loss: 0.6646 - val_accuracy: 0.6381 - 139ms/epoch - 7ms/step\n",
      "Epoch 20/20\n",
      "20/20 - 0s - loss: 0.6788 - accuracy: 0.6324 - val_loss: 0.6624 - val_accuracy: 0.6418 - 126ms/epoch - 6ms/step\n",
      "1/1 [==============================] - 0s 63ms/step\n",
      "Model using  adam optimizer\n",
      "Epoch 1/20\n",
      "20/20 - 2s - loss: 0.6751 - accuracy: 0.6372 - val_loss: 0.6578 - val_accuracy: 0.6381 - 2s/epoch - 78ms/step\n",
      "Epoch 2/20\n",
      "20/20 - 0s - loss: 0.6700 - accuracy: 0.6372 - val_loss: 0.6541 - val_accuracy: 0.6381 - 277ms/epoch - 14ms/step\n",
      "Epoch 3/20\n",
      "20/20 - 0s - loss: 0.6653 - accuracy: 0.6388 - val_loss: 0.6499 - val_accuracy: 0.6418 - 262ms/epoch - 13ms/step\n",
      "Epoch 4/20\n",
      "20/20 - 0s - loss: 0.6609 - accuracy: 0.6340 - val_loss: 0.6458 - val_accuracy: 0.6418 - 272ms/epoch - 14ms/step\n",
      "Epoch 5/20\n",
      "20/20 - 0s - loss: 0.6565 - accuracy: 0.6388 - val_loss: 0.6413 - val_accuracy: 0.6493 - 287ms/epoch - 14ms/step\n",
      "Epoch 6/20\n",
      "20/20 - 0s - loss: 0.6519 - accuracy: 0.6421 - val_loss: 0.6368 - val_accuracy: 0.6567 - 287ms/epoch - 14ms/step\n",
      "Epoch 7/20\n",
      "20/20 - 0s - loss: 0.6470 - accuracy: 0.6421 - val_loss: 0.6315 - val_accuracy: 0.6567 - 278ms/epoch - 14ms/step\n",
      "Epoch 8/20\n",
      "20/20 - 0s - loss: 0.6420 - accuracy: 0.6453 - val_loss: 0.6258 - val_accuracy: 0.6530 - 296ms/epoch - 15ms/step\n",
      "Epoch 9/20\n",
      "20/20 - 0s - loss: 0.6370 - accuracy: 0.6453 - val_loss: 0.6194 - val_accuracy: 0.6604 - 257ms/epoch - 13ms/step\n",
      "Epoch 10/20\n",
      "20/20 - 0s - loss: 0.6317 - accuracy: 0.6485 - val_loss: 0.6125 - val_accuracy: 0.6567 - 268ms/epoch - 13ms/step\n",
      "Epoch 11/20\n",
      "20/20 - 0s - loss: 0.6260 - accuracy: 0.6517 - val_loss: 0.6051 - val_accuracy: 0.6716 - 283ms/epoch - 14ms/step\n",
      "Epoch 12/20\n",
      "20/20 - 0s - loss: 0.6204 - accuracy: 0.6565 - val_loss: 0.5973 - val_accuracy: 0.6754 - 280ms/epoch - 14ms/step\n",
      "Epoch 13/20\n",
      "20/20 - 0s - loss: 0.6141 - accuracy: 0.6629 - val_loss: 0.5903 - val_accuracy: 0.6866 - 268ms/epoch - 13ms/step\n",
      "Epoch 14/20\n",
      "20/20 - 0s - loss: 0.6082 - accuracy: 0.6629 - val_loss: 0.5824 - val_accuracy: 0.7052 - 287ms/epoch - 14ms/step\n",
      "Epoch 15/20\n",
      "20/20 - 0s - loss: 0.6021 - accuracy: 0.6709 - val_loss: 0.5758 - val_accuracy: 0.7164 - 299ms/epoch - 15ms/step\n",
      "Epoch 16/20\n",
      "20/20 - 0s - loss: 0.5968 - accuracy: 0.6774 - val_loss: 0.5692 - val_accuracy: 0.7276 - 276ms/epoch - 14ms/step\n",
      "Epoch 17/20\n",
      "20/20 - 0s - loss: 0.5912 - accuracy: 0.6838 - val_loss: 0.5625 - val_accuracy: 0.7276 - 279ms/epoch - 14ms/step\n",
      "Epoch 18/20\n",
      "20/20 - 0s - loss: 0.5858 - accuracy: 0.6886 - val_loss: 0.5561 - val_accuracy: 0.7388 - 273ms/epoch - 14ms/step\n",
      "Epoch 19/20\n",
      "20/20 - 0s - loss: 0.5807 - accuracy: 0.6934 - val_loss: 0.5502 - val_accuracy: 0.7388 - 288ms/epoch - 14ms/step\n",
      "Epoch 20/20\n",
      "20/20 - 0s - loss: 0.5759 - accuracy: 0.6998 - val_loss: 0.5432 - val_accuracy: 0.7388 - 273ms/epoch - 14ms/step\n",
      "1/1 [==============================] - 0s 144ms/step\n",
      "Model using  rmsprop optimizer\n",
      "Epoch 1/20\n",
      "20/20 - 2s - loss: 0.5703 - accuracy: 0.7014 - val_loss: 0.5348 - val_accuracy: 0.7425 - 2s/epoch - 77ms/step\n",
      "Epoch 2/20\n",
      "20/20 - 0s - loss: 0.5654 - accuracy: 0.7079 - val_loss: 0.5295 - val_accuracy: 0.7500 - 285ms/epoch - 14ms/step\n",
      "Epoch 3/20\n",
      "20/20 - 0s - loss: 0.5615 - accuracy: 0.7127 - val_loss: 0.5243 - val_accuracy: 0.7500 - 310ms/epoch - 15ms/step\n",
      "Epoch 4/20\n",
      "20/20 - 0s - loss: 0.5575 - accuracy: 0.7191 - val_loss: 0.5194 - val_accuracy: 0.7612 - 314ms/epoch - 16ms/step\n",
      "Epoch 5/20\n",
      "20/20 - 0s - loss: 0.5537 - accuracy: 0.7239 - val_loss: 0.5145 - val_accuracy: 0.7724 - 331ms/epoch - 17ms/step\n",
      "Epoch 6/20\n",
      "20/20 - 0s - loss: 0.5499 - accuracy: 0.7223 - val_loss: 0.5094 - val_accuracy: 0.7724 - 330ms/epoch - 16ms/step\n",
      "Epoch 7/20\n",
      "20/20 - 0s - loss: 0.5461 - accuracy: 0.7303 - val_loss: 0.5045 - val_accuracy: 0.7761 - 303ms/epoch - 15ms/step\n",
      "Epoch 8/20\n",
      "20/20 - 0s - loss: 0.5424 - accuracy: 0.7352 - val_loss: 0.5001 - val_accuracy: 0.7799 - 306ms/epoch - 15ms/step\n",
      "Epoch 9/20\n",
      "20/20 - 0s - loss: 0.5385 - accuracy: 0.7368 - val_loss: 0.4953 - val_accuracy: 0.7873 - 305ms/epoch - 15ms/step\n",
      "Epoch 10/20\n",
      "20/20 - 0s - loss: 0.5346 - accuracy: 0.7400 - val_loss: 0.4909 - val_accuracy: 0.7948 - 314ms/epoch - 16ms/step\n",
      "Epoch 11/20\n",
      "20/20 - 0s - loss: 0.5306 - accuracy: 0.7432 - val_loss: 0.4864 - val_accuracy: 0.7948 - 309ms/epoch - 15ms/step\n",
      "Epoch 12/20\n",
      "20/20 - 0s - loss: 0.5266 - accuracy: 0.7448 - val_loss: 0.4823 - val_accuracy: 0.7910 - 324ms/epoch - 16ms/step\n",
      "Epoch 13/20\n",
      "20/20 - 0s - loss: 0.5229 - accuracy: 0.7544 - val_loss: 0.4783 - val_accuracy: 0.7985 - 330ms/epoch - 17ms/step\n",
      "Epoch 14/20\n",
      "20/20 - 0s - loss: 0.5193 - accuracy: 0.7576 - val_loss: 0.4739 - val_accuracy: 0.8060 - 298ms/epoch - 15ms/step\n",
      "Epoch 15/20\n",
      "20/20 - 0s - loss: 0.5159 - accuracy: 0.7592 - val_loss: 0.4700 - val_accuracy: 0.8022 - 294ms/epoch - 15ms/step\n",
      "Epoch 16/20\n",
      "20/20 - 0s - loss: 0.5127 - accuracy: 0.7608 - val_loss: 0.4661 - val_accuracy: 0.8097 - 283ms/epoch - 14ms/step\n",
      "Epoch 17/20\n",
      "20/20 - 0s - loss: 0.5097 - accuracy: 0.7576 - val_loss: 0.4631 - val_accuracy: 0.8097 - 260ms/epoch - 13ms/step\n",
      "Epoch 18/20\n",
      "20/20 - 0s - loss: 0.5068 - accuracy: 0.7592 - val_loss: 0.4596 - val_accuracy: 0.8097 - 286ms/epoch - 14ms/step\n",
      "Epoch 19/20\n",
      "20/20 - 0s - loss: 0.5038 - accuracy: 0.7592 - val_loss: 0.4565 - val_accuracy: 0.8134 - 313ms/epoch - 16ms/step\n",
      "Epoch 20/20\n",
      "20/20 - 0s - loss: 0.5012 - accuracy: 0.7624 - val_loss: 0.4536 - val_accuracy: 0.8134 - 167ms/epoch - 8ms/step\n",
      "WARNING:tensorflow:5 out of the last 6 calls to <function Model.make_predict_function.<locals>.predict_function at 0x00000200331AF4C0> triggered tf.function retracing. Tracing is expensive and the excessive number of tracings could be due to (1) creating @tf.function repeatedly in a loop, (2) passing tensors with different shapes, (3) passing Python objects instead of tensors. For (1), please define your @tf.function outside of the loop. For (2), @tf.function has reduce_retracing=True option that can avoid unnecessary retracing. For (3), please refer to https://www.tensorflow.org/guide/function#controlling_retracing and https://www.tensorflow.org/api_docs/python/tf/function for  more details.\n"
     ]
    },
    {
     "name": "stdout",
     "output_type": "stream",
     "text": [
      "1/1 [==============================] - 0s 72ms/step\n"
     ]
    }
   ],
   "source": [
    "predictions = {}\n",
    "all_history = {}\n",
    "for i in models:\n",
    "    model2.compile(optimizer = i, loss = 'binary_crossentropy',metrics='accuracy')\n",
    "    print(f'Model using  {i} optimizer')\n",
    "    history= model2.fit(X,y,validation_split= 0.3,epochs= 20, verbose = 2)\n",
    "    all_history[i] = history\n",
    "    predictions[i] = model2.predict(X[:5])"
   ]
  },
  {
   "cell_type": "code",
   "execution_count": 42,
   "id": "fcbaac58",
   "metadata": {},
   "outputs": [
    {
     "data": {
      "text/plain": [
       "0.6324237585067749"
      ]
     },
     "execution_count": 42,
     "metadata": {},
     "output_type": "execute_result"
    }
   ],
   "source": [
    "sdg_hist = all_history['sgd']\n",
    "max(sdg_hist.history['accuracy'])"
   ]
  },
  {
   "cell_type": "code",
   "execution_count": 43,
   "id": "e7951340",
   "metadata": {},
   "outputs": [
    {
     "data": {
      "text/plain": [
       "0.6998394727706909"
      ]
     },
     "execution_count": 43,
     "metadata": {},
     "output_type": "execute_result"
    }
   ],
   "source": [
    "adam_hist = all_history['adam']\n",
    "max(adam_hist.history['accuracy'])"
   ]
  },
  {
   "cell_type": "code",
   "execution_count": 44,
   "id": "e1d13169",
   "metadata": {},
   "outputs": [
    {
     "data": {
      "text/plain": [
       "0.7624397873878479"
      ]
     },
     "execution_count": 44,
     "metadata": {},
     "output_type": "execute_result"
    }
   ],
   "source": [
    "rms_hist = all_history['rmsprop']\n",
    "max(rms_hist.history['accuracy'])"
   ]
  },
  {
   "cell_type": "code",
   "execution_count": 45,
   "id": "2691cdcf",
   "metadata": {},
   "outputs": [
    {
     "data": {
      "text/plain": [
       "array([[0.4465636 ],\n",
       "       [0.4465636 ],\n",
       "       [0.41310266],\n",
       "       [0.40555832],\n",
       "       [0.4193108 ]], dtype=float32)"
      ]
     },
     "execution_count": 45,
     "metadata": {},
     "output_type": "execute_result"
    }
   ],
   "source": [
    "sgd_pred = predictions['sgd']\n",
    "sgd_pred"
   ]
  },
  {
   "cell_type": "code",
   "execution_count": 46,
   "id": "ff84df20",
   "metadata": {},
   "outputs": [
    {
     "data": {
      "text/plain": [
       "array([[0.31698015],\n",
       "       [0.44374308],\n",
       "       [0.27394226],\n",
       "       [0.42818198],\n",
       "       [0.18894742]], dtype=float32)"
      ]
     },
     "execution_count": 46,
     "metadata": {},
     "output_type": "execute_result"
    }
   ],
   "source": [
    "adam_pred = predictions['adam']\n",
    "adam_pred"
   ]
  },
  {
   "cell_type": "code",
   "execution_count": 47,
   "id": "309236b5",
   "metadata": {},
   "outputs": [
    {
     "data": {
      "text/plain": [
       "array([[0.22102994],\n",
       "       [0.73766696],\n",
       "       [0.27749017],\n",
       "       [0.69362193],\n",
       "       [0.11107818]], dtype=float32)"
      ]
     },
     "execution_count": 47,
     "metadata": {},
     "output_type": "execute_result"
    }
   ],
   "source": [
    "rms_pred = predictions['rmsprop']\n",
    "rms_pred"
   ]
  },
  {
   "cell_type": "code",
   "execution_count": null,
   "id": "b1f3c51c",
   "metadata": {},
   "outputs": [],
   "source": []
  },
  {
   "cell_type": "code",
   "execution_count": null,
   "id": "61430b66",
   "metadata": {},
   "outputs": [],
   "source": []
  },
  {
   "cell_type": "code",
   "execution_count": null,
   "id": "636672f8",
   "metadata": {},
   "outputs": [],
   "source": []
  },
  {
   "cell_type": "code",
   "execution_count": null,
   "id": "97c7a4f1",
   "metadata": {},
   "outputs": [],
   "source": []
  },
  {
   "cell_type": "code",
   "execution_count": null,
   "id": "0f60fbad",
   "metadata": {},
   "outputs": [],
   "source": []
  },
  {
   "cell_type": "code",
   "execution_count": null,
   "id": "4b4340b7",
   "metadata": {},
   "outputs": [],
   "source": []
  },
  {
   "cell_type": "code",
   "execution_count": null,
   "id": "952c6bc6",
   "metadata": {},
   "outputs": [],
   "source": []
  },
  {
   "cell_type": "code",
   "execution_count": null,
   "id": "ff9c575a",
   "metadata": {},
   "outputs": [],
   "source": []
  },
  {
   "cell_type": "code",
   "execution_count": null,
   "id": "9856563b",
   "metadata": {},
   "outputs": [],
   "source": []
  },
  {
   "cell_type": "code",
   "execution_count": null,
   "id": "ba88aca0",
   "metadata": {},
   "outputs": [],
   "source": []
  },
  {
   "cell_type": "code",
   "execution_count": null,
   "id": "b73af157",
   "metadata": {},
   "outputs": [],
   "source": []
  },
  {
   "cell_type": "code",
   "execution_count": null,
   "id": "eccb3dcc",
   "metadata": {},
   "outputs": [],
   "source": []
  },
  {
   "cell_type": "code",
   "execution_count": null,
   "id": "1e6c448a",
   "metadata": {},
   "outputs": [],
   "source": []
  },
  {
   "cell_type": "code",
   "execution_count": null,
   "id": "c51d1db7",
   "metadata": {},
   "outputs": [],
   "source": []
  },
  {
   "cell_type": "code",
   "execution_count": null,
   "id": "ef5c96cb",
   "metadata": {},
   "outputs": [],
   "source": []
  },
  {
   "cell_type": "code",
   "execution_count": null,
   "id": "7b97b272",
   "metadata": {},
   "outputs": [],
   "source": []
  },
  {
   "cell_type": "code",
   "execution_count": null,
   "id": "559295ed",
   "metadata": {},
   "outputs": [],
   "source": []
  },
  {
   "cell_type": "code",
   "execution_count": null,
   "id": "3586fe98",
   "metadata": {},
   "outputs": [],
   "source": []
  },
  {
   "cell_type": "code",
   "execution_count": null,
   "id": "65f0d7bb",
   "metadata": {},
   "outputs": [],
   "source": []
  },
  {
   "cell_type": "code",
   "execution_count": null,
   "id": "0397efb6",
   "metadata": {},
   "outputs": [],
   "source": []
  },
  {
   "cell_type": "code",
   "execution_count": null,
   "id": "f8bbb1e8",
   "metadata": {},
   "outputs": [],
   "source": []
  },
  {
   "cell_type": "code",
   "execution_count": null,
   "id": "26eebc60",
   "metadata": {},
   "outputs": [],
   "source": []
  },
  {
   "cell_type": "code",
   "execution_count": null,
   "id": "9bd7732b",
   "metadata": {},
   "outputs": [],
   "source": []
  }
 ],
 "metadata": {
  "kernelspec": {
   "display_name": "Python 3 (ipykernel)",
   "language": "python",
   "name": "python3"
  },
  "language_info": {
   "codemirror_mode": {
    "name": "ipython",
    "version": 3
   },
   "file_extension": ".py",
   "mimetype": "text/x-python",
   "name": "python",
   "nbconvert_exporter": "python",
   "pygments_lexer": "ipython3",
   "version": "3.9.13"
  }
 },
 "nbformat": 4,
 "nbformat_minor": 5
}
